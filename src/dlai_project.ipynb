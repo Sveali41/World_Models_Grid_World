{
 "cells": [],
 "metadata": {
  "interpreter": {
   "hash": "2c738bf30c581a108404014cabda6949cf5aabf4e14463ad04ad01b606919e3c"
  },
  "kernelspec": {
   "display_name": "Python 3.9.11 ('dl')",
   "language": "python",
   "name": "python3"
  },
  "language_info": {
   "codemirror_mode": {
    "name": "ipython",
    "version": 3
   },
   "file_extension": ".py",
   "mimetype": "text/x-python",
   "name": "python",
   "nbconvert_exporter": "python",
   "pygments_lexer": "ipython3",
   "version": "3.9.11"
  },
  "orig_nbformat": 4
 },
 "nbformat": 4,
 "nbformat_minor": 2
}
